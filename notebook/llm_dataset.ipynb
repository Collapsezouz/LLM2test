{
 "cells": [
  {
   "cell_type": "code",
   "execution_count": null,
   "metadata": {},
   "outputs": [],
   "source": [
    "dataset_path = '/nas/dataset/llm/phbs_llm/meeting/summary_dataset.jsonl'\n",
    "\n",
    "! wc -l $dataset_path"
   ]
  },
  {
   "cell_type": "code",
   "execution_count": null,
   "metadata": {},
   "outputs": [],
   "source": [
    "from smartnlp.tools.console.jsonl_cat import JsonlCat\n",
    "\n",
    "cat = JsonlCat(dataset_path)"
   ]
  },
  {
   "cell_type": "code",
   "execution_count": null,
   "metadata": {},
   "outputs": [],
   "source": [
    "cat.next()"
   ]
  },
  {
   "cell_type": "code",
   "execution_count": null,
   "metadata": {},
   "outputs": [],
   "source": [
    "from pprint import pprint\n",
    "from smart.utils.jsonl import JsonlReader, JsonlWriter\n",
    "\n",
    "with JsonlReader({'':dataset_path}) as get_items:\n",
    "    items = list(get_items())\n",
    "\n",
    "pprint(items[0])"
   ]
  },
  {
   "cell_type": "code",
   "execution_count": null,
   "metadata": {},
   "outputs": [],
   "source": [
    "for item in items:\n",
    "    for key in ('system', 'instruction', 'input', 'output'):\n",
    "        val = item.get(key)\n",
    "        if not val: continue\n",
    "        new_val = val.strip()\n",
    "        item[key] = new_val\n",
    "\n",
    "pprint(items[0])"
   ]
  },
  {
   "cell_type": "code",
   "execution_count": null,
   "metadata": {},
   "outputs": [],
   "source": [
    "cleaned_dataset_path = '/nas/dataset/llm/phbs_llm/meeting/summary_dataset_clean.jsonl'\n",
    "\n",
    "with JsonlWriter({'': cleaned_dataset_path}) as write:\n",
    "    for item in items:\n",
    "        write('', item)\n",
    "\n",
    "! wc -l $cleaned_dataset_path\n",
    "! head -n 1 $cleaned_dataset_path"
   ]
  }
 ],
 "metadata": {
  "kernelspec": {
   "display_name": "base",
   "language": "python",
   "name": "python3"
  },
  "language_info": {
   "codemirror_mode": {
    "name": "ipython",
    "version": 3
   },
   "file_extension": ".py",
   "mimetype": "text/x-python",
   "name": "python",
   "nbconvert_exporter": "python",
   "pygments_lexer": "ipython3",
   "version": "3.7.11"
  },
  "orig_nbformat": 4
 },
 "nbformat": 4,
 "nbformat_minor": 2
}
